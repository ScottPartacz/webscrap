{
 "cells": [
  {
   "cell_type": "code",
   "execution_count": 111,
   "metadata": {},
   "outputs": [],
   "source": [
    "from bs4 import BeautifulSoup\n",
    "import requests\n",
    "import csv\n",
    "\n",
    "class Book:\n",
    "    def __init__(self,title,price = None,rating = None):\n",
    "        self._title = title\n",
    "        self._price = price\n",
    "        self._rating = rating\n",
    "    def __str__(self):\n",
    "        return \"Title: \" + self._title\n",
    "        \n",
    "\n",
    "pages = [\"\"]\n",
    "counter = 0\n",
    "counter2 = 0\n",
    "for x in range(2,51):\n",
    "    pages.append(\"catalogue/page-\" + str(x) + \".html\")\n",
    "\n",
    "\n",
    "books = []\n",
    "for x in pages:\n",
    "    html = requests.get(\"https://books.toscrape.com/\" + x).text\n",
    "\n",
    "    soup = BeautifulSoup(html, \"lxml\")\n",
    "\n",
    "    price = soup.find_all(\"p\", class_=\"price_color\")\n",
    "    title = soup.find_all(\"h3\")\n",
    "    rating = soup.find_all(\"p\", class_=\"star-rating\")\n",
    "\n",
    "    \n",
    "\n",
    "    for x in title:\n",
    "    \n",
    "        temp = Book(x.find(\"a\").attrs[\"title\"])\n",
    "    \n",
    "        books.append(temp)\n",
    "\n",
    "    for x in price:\n",
    "    \n",
    "        books[counter]._price = (x.text.strip(\"Â\"))\n",
    "        counter += 1\n",
    "\n",
    "    for x in rating:\n",
    "\n",
    "        books[counter2]._rating = x.attrs[\"class\"][1]\n",
    "        counter2 += 1\n",
    "\n",
    "with open(\"books.csv\",\"w\",newline=\"\",encoding=\"utf-8\") as file:\n",
    "\n",
    "    writer = csv.writer(file)\n",
    "    writer.writerow(books[0].__dict__)\n",
    "    for x in range(0,len(books)):\n",
    "        writer.writerow(books[x].__dict__.values())\n",
    "        \n",
    "    \n",
    "\n",
    "\n",
    "\n",
    "\n",
    "\n",
    "\n"
   ]
  }
 ],
 "metadata": {
  "interpreter": {
   "hash": "aab2652dd422b8952e87837d88345d2dc429e222c6ab5d96b6e49515aa907270"
  },
  "kernelspec": {
   "display_name": "Python 3.9.7 64-bit ('base': conda)",
   "language": "python",
   "name": "python3"
  },
  "language_info": {
   "codemirror_mode": {
    "name": "ipython",
    "version": 3
   },
   "file_extension": ".py",
   "mimetype": "text/x-python",
   "name": "python",
   "nbconvert_exporter": "python",
   "pygments_lexer": "ipython3",
   "version": "3.9.7"
  },
  "orig_nbformat": 4
 },
 "nbformat": 4,
 "nbformat_minor": 2
}
